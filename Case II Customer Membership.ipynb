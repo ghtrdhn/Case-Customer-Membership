{
 "cells": [
  {
   "cell_type": "code",
   "execution_count": 1,
   "id": "f6bf4e78-27ca-42d9-a970-b15a04de583e",
   "metadata": {},
   "outputs": [],
   "source": [
    "# Case II : Customer Membership\n",
    "#Pertemuan 15 - 16 Python - Sekolah Data - Pacmann Academy"
   ]
  },
  {
   "cell_type": "code",
   "execution_count": 2,
   "id": "02c3475a-67b0-4284-a638-91c949f5eb39",
   "metadata": {},
   "outputs": [],
   "source": [
    "#### Membership Table \n",
    "\n",
    "#| **Membership** | **Discount** |                     **Another Benefit**                     |\n",
    "#|:--------------:|:------------:|:-----------------------------------------------------------:|\n",
    "#|    Platinum    |      15%     | Benefit Silver + Gold + Voucher Liburan + Cashback max. 30% |\n",
    "#|      Gold      |      10%     | Benefit Silver + Voucher Ojek Online                        |\n",
    "#|     Silver     |      8%      | Voucher Makanan                                             |"
   ]
  },
  {
   "cell_type": "code",
   "execution_count": 3,
   "id": "365e0d3a-4ce2-49d4-9a2d-5bfa436937cd",
   "metadata": {},
   "outputs": [],
   "source": [
    "#### Requirements Membership Table "
   ]
  },
  {
   "cell_type": "code",
   "execution_count": 4,
   "id": "bebba9ff-3f99-4e11-bda0-6b3af5009424",
   "metadata": {},
   "outputs": [],
   "source": [
    "#| **Membership** | **Monthly Expense (juta)** | **Monthly Income (juta)** |\n",
    "#|:--------------:|:--------------------------:|:-------------------------:|\n",
    "#|    Platinum    |              8             | 15                        |\n",
    "#|      Gold      |              6             | 10                        |\n",
    "#|     Silver     |              5             | 7                         |"
   ]
  },
  {
   "cell_type": "code",
   "execution_count": 5,
   "id": "a65c5553-30ec-49fe-abed-d947a3aa0626",
   "metadata": {},
   "outputs": [],
   "source": [
    "### Features List\n",
    "#- [ ] `show_benefit()` --> show all membership benefit (table 1)\n",
    "#- [ ] `show_requirements()` --> show all requirements untuk menjadi membership (table 2)\n",
    "#- [ ] `predict_membership(monthly_expense, monthly_income)` --> memprediksi user akan masuk ke dalam membership mana berdasarkan input parameter dan parameter masing - masing membership\n",
    "#- [ ] `calculate_price(membership, list_harga_barang)` --> menghitung final price yang harus dibayarkan, terus akan mendapatkan diskon sesuai dengan ketentuan membership"
   ]
  },
  {
   "cell_type": "code",
   "execution_count": 6,
   "id": "6cee8267-0d88-462d-a43a-a55ca02ebf90",
   "metadata": {},
   "outputs": [],
   "source": [
    "### Import Library "
   ]
  },
  {
   "cell_type": "code",
   "execution_count": 7,
   "id": "4c2dfda1-7c97-48e8-95ea-ae1c83663b5c",
   "metadata": {},
   "outputs": [],
   "source": [
    "# untuk membuat table\n",
    "from tabulate import tabulate\n",
    "\n",
    "# square root, untuk menghitung euclidean distance\n",
    "from math import sqrt"
   ]
  },
  {
   "cell_type": "code",
   "execution_count": 8,
   "id": "143251e3-09ba-489f-8370-97092f8c7193",
   "metadata": {},
   "outputs": [],
   "source": [
    "### Create Membership Class \n",
    "\n",
    "#Data yang harus dibuat Username dan Membership untuk existing user:\n",
    "#- Sumbul: Platinum\n",
    "#- Ana: Gold\n",
    "#- Cahya: Platinum"
   ]
  },
  {
   "cell_type": "code",
   "execution_count": 9,
   "id": "1869c660-a7f7-4a47-b8df-11265a344070",
   "metadata": {},
   "outputs": [],
   "source": [
    "# isi titik - titik di bawah ini\n",
    "class Membership:\n",
    "    \n",
    "    # inisialisasi data\n",
    "    data = {\n",
    "        \"Sumbul\": \"Platinum\",\n",
    "        \"Ana\" : \"Gold\",\n",
    "        \"Cahya\": \"Platinum\"\n",
    "    }\n",
    "    \n",
    "    # inisialisai attribute\n",
    "    def __init__(self, username):\n",
    "        self.username = username\n",
    "        \n",
    "    # method untuk menampilkan benefit membership\n",
    "    def show_benefit(self):\n",
    "        tables = [\n",
    "            [\"Platinum\",\"15%\",\"Benefit Gold + Silver + Voucher Liburan + Cashback 30%\"],\n",
    "            [\"Gold\", \"10%\", \"Benefit Silver + Voucher Ojek Online\"],\n",
    "            [\"Silver\", \"8%\", \"Voucher Makanan\"]\n",
    "        ]\n",
    "        \n",
    "        headers = [\"Membership\",\"Discount\",\"Another Benefit\"]\n",
    "        \n",
    "        print(\"PacCommerce Membership Benefit\")\n",
    "        print(\"-\"*86)\n",
    "        print(tabulate(tables, headers, tablefmt='github', stralign=\"center\")) \n",
    "    \n",
    "        \n",
    "    # method untuk menampilkan requirements membership\n",
    "    def show_requirements(self):\n",
    "        tables = [\n",
    "            [\"Platinum\", 8, 15],\n",
    "            [\"Gold\", 6, 10],\n",
    "            [\"Silver\", 5, 7]\n",
    "        ]\n",
    "        \n",
    "        headers = [\"Membership\", \"Monthly Expense (juta)\", \"Monthly Income (juta)\"]\n",
    "        \n",
    "        print(\"PacCommerce Membership Requirements\")\n",
    "        print(\"-\"*86)\n",
    "        print(tabulate(tables, headers, tablefmt='github', stralign=\"center\")) \n",
    "     \n",
    "        \n",
    "    # method untuk melakukan prediksi membership\n",
    "    # menggunakan euclidean distance\n",
    "    def predict_membership(self, username,\n",
    "                           monthly_expense,\n",
    "                           monthly_income):\n",
    "        \n",
    "        res=[] #list kosongan agar untuk diinpu dengan append\n",
    "        \n",
    "        membership_parameter = [[8, 15], [6, 10], [5, 7]]\n",
    "        \n",
    "        #membership[0][0]\n",
    "        #membership[1][0]\n",
    "        #membership[2][0]\n",
    "        #bisa menggunakan loop in enumerate() untuk mengakses index dan menampilkan semua data dalam list membership parameter\n",
    "        for index, _ in enumerate(membership_parameter):\n",
    "            # index, value\n",
    "            #index, _ akan menampilkan index saja\n",
    "            tmp = round(sqrt((monthly_expense - membership_parameter[index][0])**2 + \\\n",
    "                             (monthly_income - membership_parameter[index][1])**2), 2)\n",
    "            \n",
    "        #[index][0] dalam [8, 15] adalah 8 yaitu member monthly expense   \n",
    "        #[index][1] dalam [8, 15] adalah 15 yaitu member monthly income\n",
    "            \n",
    "            res.append(tmp)\n",
    "            \n",
    "        res_dict = {\n",
    "            \"Platinum\" : res[0],\n",
    "            \"Gold\" : res[1],\n",
    "            \"Silver\" : res[2]\n",
    "        }\n",
    "            \n",
    "        print(f'Hasil perhitungan Euclidean Distance dari user {self.username} adalah {res_dict}')\n",
    "        \n",
    "        for member, distance in res_dict.items():\n",
    "            if distance == min(res):\n",
    "                self.data[username] = member\n",
    "                return member\n",
    "    \n",
    "    # method untuk menampilkan membership yang dimiliki\n",
    "    # dari database yang dimiliki\n",
    "    def show_membership(self, username):\n",
    "        if username in self.data:\n",
    "            return self.data.get(username)\n",
    "        \n",
    "    # method untuk menghitung final price berdasarkan membership\n",
    "    def calculate_price(self, username, list_harga):\n",
    "        try:\n",
    "            if username in self.data:\n",
    "                membership = self.data.get(username)\n",
    "                \n",
    "                if membership == \"Platinum\":\n",
    "                    total_harga = sum(list_harga) - (sum(list_harga) * 0.15)\n",
    "                    return total_harga\n",
    "                \n",
    "                elif membership == \"Gold\":\n",
    "                    total_harga = sum(list_harga) - (sum(list_harga) * 0.10)\n",
    "                    return total_harga\n",
    "                \n",
    "                elif membership == \"Silver\":\n",
    "                    total_harga = sum(list_harga) - (sum(list_harga) * 0.08)\n",
    "                    return total_harga\n",
    "                \n",
    "                else:\n",
    "                    raise Exception (\"Membership tidak valid\")\n",
    "                \n",
    "            else:\n",
    "                raise Exception (\"Member tidak ada di database\")\n",
    "            \n",
    "        except:\n",
    "            raise Exception(\"Invalid Process\")"
   ]
  },
  {
   "cell_type": "code",
   "execution_count": 10,
   "id": "a80eec51-1505-413d-bb35-56a46df41bd4",
   "metadata": {},
   "outputs": [
    {
     "name": "stdout",
     "output_type": "stream",
     "text": [
      "piweojrpjwerj\n"
     ]
    }
   ],
   "source": [
    "username = \"piweojrpjwerj\"\n",
    "user_member = Membership(username)\n",
    "print(user_member.username)"
   ]
  },
  {
   "cell_type": "code",
   "execution_count": 11,
   "id": "1186da17-ce5b-43cd-ad0f-9892c0d622c1",
   "metadata": {},
   "outputs": [
    {
     "data": {
      "text/plain": [
       "[3.16, 2.24, 5.39]"
      ]
     },
     "execution_count": 11,
     "metadata": {},
     "output_type": "execute_result"
    }
   ],
   "source": [
    "res_1=[] #list kosongan agar untuk diinpu dengan append\n",
    "        \n",
    "membership_parameter = [[8, 15], [6, 10], [5, 7]]\n",
    "        \n",
    "        #membership[0][0]\n",
    "        #membership[1][0]\n",
    "        #membership[2][0]\n",
    "        #bisa menggunakan loop in enumerate() untuk mengakses index dan menampilkan semua data dalam list membership parameter\n",
    "for index, _ in enumerate(membership_parameter):\n",
    "            # index, value\n",
    "            #index, _ akan menampilkan index saja\n",
    "    tmp_1 = round(sqrt((7 - membership_parameter[index][0])**2 + \\\n",
    "                (12 - membership_parameter[index][1])**2), 2)\n",
    "            \n",
    "        #[index][0] dalam [8, 15] adalah 8 yaitu member monthly expense   \n",
    "        #[index][1] dalam [8, 15] adalah 15 yaitu member monthly income\n",
    "            \n",
    "    res_1.append(tmp_1)\n",
    "\n",
    "res_1"
   ]
  },
  {
   "cell_type": "code",
   "execution_count": 12,
   "id": "1bb2ff66-3f17-447d-92a1-28d8b47254f9",
   "metadata": {},
   "outputs": [],
   "source": [
    "# membuat Instance\n",
    "user_1 = Membership(\"Shandy\")"
   ]
  },
  {
   "cell_type": "code",
   "execution_count": 13,
   "id": "32c9b71b-06db-4bde-aaa2-734a7345b808",
   "metadata": {},
   "outputs": [
    {
     "data": {
      "text/plain": [
       "'Shandy'"
      ]
     },
     "execution_count": 13,
     "metadata": {},
     "output_type": "execute_result"
    }
   ],
   "source": [
    "user_1.username"
   ]
  },
  {
   "cell_type": "code",
   "execution_count": 14,
   "id": "ac19247f-4cf0-4d63-9ab3-4a96b6f5b438",
   "metadata": {},
   "outputs": [],
   "source": [
    "#### Mengecek data yang ada"
   ]
  },
  {
   "cell_type": "code",
   "execution_count": 15,
   "id": "b9fd04c0-f38c-44be-8a52-dd00ba38b926",
   "metadata": {},
   "outputs": [
    {
     "data": {
      "text/plain": [
       "{'Sumbul': 'Platinum', 'Ana': 'Gold', 'Cahya': 'Platinum'}"
      ]
     },
     "execution_count": 15,
     "metadata": {},
     "output_type": "execute_result"
    }
   ],
   "source": [
    "# isi titik - titik di bawah ini\n",
    "user_1.data"
   ]
  },
  {
   "cell_type": "code",
   "execution_count": 16,
   "id": "136326c5-41ca-4521-92a1-ee74950cfd0c",
   "metadata": {},
   "outputs": [],
   "source": [
    "#### Test Case 1"
   ]
  },
  {
   "cell_type": "code",
   "execution_count": 17,
   "id": "3a108e2e-ac2a-4757-ab72-2caa0aae0c7f",
   "metadata": {},
   "outputs": [
    {
     "name": "stdout",
     "output_type": "stream",
     "text": [
      "PacCommerce Membership Benefit\n",
      "--------------------------------------------------------------------------------------\n",
      "|  Membership  |  Discount  |                    Another Benefit                     |\n",
      "|--------------|------------|--------------------------------------------------------|\n",
      "|   Platinum   |    15%     | Benefit Gold + Silver + Voucher Liburan + Cashback 30% |\n",
      "|     Gold     |    10%     |          Benefit Silver + Voucher Ojek Online          |\n",
      "|    Silver    |     8%     |                    Voucher Makanan                     |\n"
     ]
    }
   ],
   "source": [
    "# isi titik - titik di bawah ini\n",
    "user_1.show_benefit()"
   ]
  },
  {
   "cell_type": "code",
   "execution_count": 18,
   "id": "4781bc27-2128-4afa-9560-dc967eb981d0",
   "metadata": {},
   "outputs": [],
   "source": [
    "#### Test Case 2 "
   ]
  },
  {
   "cell_type": "code",
   "execution_count": 19,
   "id": "d082001a-34d8-4882-9abb-77cdbda4fcc3",
   "metadata": {},
   "outputs": [
    {
     "name": "stdout",
     "output_type": "stream",
     "text": [
      "PacCommerce Membership Requirements\n",
      "--------------------------------------------------------------------------------------\n",
      "|  Membership  |   Monthly Expense (juta) |   Monthly Income (juta) |\n",
      "|--------------|--------------------------|-------------------------|\n",
      "|   Platinum   |                        8 |                      15 |\n",
      "|     Gold     |                        6 |                      10 |\n",
      "|    Silver    |                        5 |                       7 |\n"
     ]
    }
   ],
   "source": [
    "# isi titik - titik di bawah ini\n",
    "user_1.show_requirements()"
   ]
  },
  {
   "cell_type": "code",
   "execution_count": 20,
   "id": "33b33512-50fd-4d06-8f5d-e2739192b763",
   "metadata": {},
   "outputs": [],
   "source": [
    "#### Test Case 3 \n",
    "#Masukkan parameter `monthly_expense = 9` dan `monthly_income = 12`"
   ]
  },
  {
   "cell_type": "code",
   "execution_count": 21,
   "id": "af0b265e-926e-4e2a-9610-56fd8e0d1646",
   "metadata": {},
   "outputs": [
    {
     "name": "stdout",
     "output_type": "stream",
     "text": [
      "Hasil perhitungan Euclidean Distance dari user Shandy adalah {'Platinum': 3.16, 'Gold': 3.61, 'Silver': 6.4}\n"
     ]
    },
    {
     "data": {
      "text/plain": [
       "'Platinum'"
      ]
     },
     "execution_count": 21,
     "metadata": {},
     "output_type": "execute_result"
    }
   ],
   "source": [
    "# isi titik - titik di bawah ini\n",
    "user_1.predict_membership(user_1.username, \n",
    "                          monthly_expense = 9, \n",
    "                          monthly_income = 12)"
   ]
  },
  {
   "cell_type": "code",
   "execution_count": 22,
   "id": "18a8ac67-f27e-4551-b076-5f27de6f3e95",
   "metadata": {},
   "outputs": [],
   "source": [
    "#### Tampilkan data yang terbaru "
   ]
  },
  {
   "cell_type": "code",
   "execution_count": 23,
   "id": "b418b50b-3068-4cbc-8c80-5a6c2cb7c39e",
   "metadata": {},
   "outputs": [
    {
     "data": {
      "text/plain": [
       "'Platinum'"
      ]
     },
     "execution_count": 23,
     "metadata": {},
     "output_type": "execute_result"
    }
   ],
   "source": [
    "# isi titik - titik di bawah ini\n",
    "user_1.show_membership(user_1.username)"
   ]
  },
  {
   "cell_type": "code",
   "execution_count": 24,
   "id": "3dc30818-05d9-49f6-8a2b-d4bf0efa7b26",
   "metadata": {},
   "outputs": [
    {
     "name": "stdout",
     "output_type": "stream",
     "text": [
      "Platinum\n"
     ]
    }
   ],
   "source": [
    "print(user_1.show_membership(user_1.username))"
   ]
  },
  {
   "cell_type": "code",
   "execution_count": 25,
   "id": "2391c2d5-d1cf-4f8f-8c47-19320e0745ca",
   "metadata": {},
   "outputs": [],
   "source": [
    "#### Tampilkan Membership berdasarkan username  "
   ]
  },
  {
   "cell_type": "code",
   "execution_count": 26,
   "id": "54538514-a063-48d6-88de-f1286256bfd3",
   "metadata": {},
   "outputs": [],
   "source": [
    "# isi titik - titik di bawah ini\n"
   ]
  },
  {
   "cell_type": "code",
   "execution_count": 27,
   "id": "f9d6a1b4-12c8-4a4b-ab0e-21fbdbe9018d",
   "metadata": {},
   "outputs": [],
   "source": [
    "#### Test Case 4\n",
    "#Masukkan list harga barang yang harus dihitung `[150_000, 200_000, 400_000]`"
   ]
  },
  {
   "cell_type": "code",
   "execution_count": 28,
   "id": "155d5da9-17b3-434b-ab1b-1fc7d96c7a67",
   "metadata": {},
   "outputs": [
    {
     "data": {
      "text/plain": [
       "637500.0"
      ]
     },
     "execution_count": 28,
     "metadata": {},
     "output_type": "execute_result"
    }
   ],
   "source": [
    "# isi titik - titik di bawah ini\n",
    "list_harga = [150_000, 200_000, 400_000]\n",
    "user_1.calculate_price(user_1.username, list_harga)"
   ]
  },
  {
   "cell_type": "code",
   "execution_count": 29,
   "id": "f783d634-6497-4a28-8a28-2f033acc1986",
   "metadata": {},
   "outputs": [],
   "source": [
    "#### Another Test Case\n",
    "#Cobalah dengan existing user `Ana` yang ada di dalam database"
   ]
  },
  {
   "cell_type": "code",
   "execution_count": 30,
   "id": "e293091d-61be-4861-8865-1a41b038e5f6",
   "metadata": {},
   "outputs": [],
   "source": [
    "# isi titik - titik di bawah ini\n",
    "user_2 = Membership(\"Ana\")"
   ]
  },
  {
   "cell_type": "code",
   "execution_count": 31,
   "id": "4b1eac85-95fa-4f6d-bbd1-202732baea92",
   "metadata": {},
   "outputs": [
    {
     "data": {
      "text/plain": [
       "{'Sumbul': 'Platinum',\n",
       " 'Ana': 'Gold',\n",
       " 'Cahya': 'Platinum',\n",
       " 'Shandy': 'Platinum'}"
      ]
     },
     "execution_count": 31,
     "metadata": {},
     "output_type": "execute_result"
    }
   ],
   "source": [
    "user_2.data"
   ]
  },
  {
   "cell_type": "code",
   "execution_count": 32,
   "id": "5d1b9c8f-9e93-4f97-936e-176c5b4cb928",
   "metadata": {},
   "outputs": [
    {
     "data": {
      "text/plain": [
       "'Gold'"
      ]
     },
     "execution_count": 32,
     "metadata": {},
     "output_type": "execute_result"
    }
   ],
   "source": [
    "# isi titik - titik di bawah ini\n",
    "user_2.show_membership(user_2.username)"
   ]
  },
  {
   "cell_type": "code",
   "execution_count": 33,
   "id": "af9ed13c-0103-45c2-ab18-a56e2496df0c",
   "metadata": {},
   "outputs": [
    {
     "data": {
      "text/plain": [
       "675000.0"
      ]
     },
     "execution_count": 33,
     "metadata": {},
     "output_type": "execute_result"
    }
   ],
   "source": [
    "# isi titik - titik di bawah ini\n",
    "user_2.calculate_price(user_2.username, list_harga)"
   ]
  },
  {
   "cell_type": "code",
   "execution_count": 34,
   "id": "803fd6a9-68f4-4d4c-bbdb-ca378a46d8ea",
   "metadata": {},
   "outputs": [
    {
     "name": "stdin",
     "output_type": "stream",
     "text": [
      "Enter number of elements :  5\n",
      " 100000\n",
      " 200000\n",
      " 300000\n",
      " 500000\n",
      " 20000\n"
     ]
    },
    {
     "name": "stdout",
     "output_type": "stream",
     "text": [
      "[100000, 200000, 300000, 500000, 20000]\n"
     ]
    }
   ],
   "source": [
    "# creating an empty list\n",
    "lst = []\n",
    "  \n",
    "# number of elements as input\n",
    "n = int(input(\"Enter number of elements : \"))\n",
    "  \n",
    "# iterating till the range\n",
    "for i in range(0, n):\n",
    "    ele = int(input())\n",
    "  \n",
    "    lst.append(ele) # adding the element\n",
    "      \n",
    "print(lst)"
   ]
  },
  {
   "cell_type": "code",
   "execution_count": 35,
   "id": "359249a6-c5f6-4d6e-b623-7e24be0c757e",
   "metadata": {},
   "outputs": [
    {
     "data": {
      "text/plain": [
       "1008000.0"
      ]
     },
     "execution_count": 35,
     "metadata": {},
     "output_type": "execute_result"
    }
   ],
   "source": [
    "# isi titik - titik di bawah ini\n",
    "\n",
    "user_2.calculate_price(user_2.username, lst)"
   ]
  },
  {
   "cell_type": "code",
   "execution_count": 36,
   "id": "2116f910-a69b-445b-911b-9393b1a3cc22",
   "metadata": {},
   "outputs": [],
   "source": [
    "### Coba dengan User lain\n",
    "#- User dengan username `\"Bambang\"`\n",
    "#- Predict membershipnya jika memiliki parameter `monthly_expense = 3` dan `monthly_income = 4`\n",
    "#- Hitung final price jika memiliki list harga barangnya `[300_000, 150_000, 1_250_000, 15_000]`"
   ]
  },
  {
   "cell_type": "code",
   "execution_count": 37,
   "id": "4c15da90-885f-4f76-b714-d8ad90a21afe",
   "metadata": {},
   "outputs": [],
   "source": [
    "# isi titik - titik di bawah ini\n",
    "user_3 = Membership(\"Bambang\")"
   ]
  },
  {
   "cell_type": "code",
   "execution_count": 38,
   "id": "427a39b9-f2a6-4b5a-8a4e-7e71202b18ef",
   "metadata": {},
   "outputs": [
    {
     "data": {
      "text/plain": [
       "{'Sumbul': 'Platinum',\n",
       " 'Ana': 'Gold',\n",
       " 'Cahya': 'Platinum',\n",
       " 'Shandy': 'Platinum'}"
      ]
     },
     "execution_count": 38,
     "metadata": {},
     "output_type": "execute_result"
    }
   ],
   "source": [
    "user_3.data"
   ]
  },
  {
   "cell_type": "code",
   "execution_count": 39,
   "id": "4330b00b-867c-4fc2-8432-741899bbd5fe",
   "metadata": {},
   "outputs": [
    {
     "data": {
      "text/plain": [
       "'Bambang'"
      ]
     },
     "execution_count": 39,
     "metadata": {},
     "output_type": "execute_result"
    }
   ],
   "source": [
    "user_3.username"
   ]
  },
  {
   "cell_type": "code",
   "execution_count": 40,
   "id": "26be7143-3cf9-4783-b6b2-d1d5f07c3432",
   "metadata": {},
   "outputs": [
    {
     "name": "stdout",
     "output_type": "stream",
     "text": [
      "Hasil perhitungan Euclidean Distance dari user Bambang adalah {'Platinum': 12.08, 'Gold': 6.71, 'Silver': 3.61}\n"
     ]
    },
    {
     "data": {
      "text/plain": [
       "'Silver'"
      ]
     },
     "execution_count": 40,
     "metadata": {},
     "output_type": "execute_result"
    }
   ],
   "source": [
    "# isi titik - titik di bawah ini\n",
    "user_3.predict_membership(user_3.username, \n",
    "                          monthly_expense = 3, \n",
    "                          monthly_income =4)"
   ]
  },
  {
   "cell_type": "code",
   "execution_count": 41,
   "id": "8fb2dd18-9532-4f31-8539-58d97bcf2fe2",
   "metadata": {},
   "outputs": [
    {
     "data": {
      "text/plain": [
       "'Silver'"
      ]
     },
     "execution_count": 41,
     "metadata": {},
     "output_type": "execute_result"
    }
   ],
   "source": [
    "user_3.show_membership(user_3.username)"
   ]
  },
  {
   "cell_type": "code",
   "execution_count": 42,
   "id": "788e067d-91b3-4994-8a8a-253b2706cd57",
   "metadata": {},
   "outputs": [
    {
     "data": {
      "text/plain": [
       "{'Sumbul': 'Platinum',\n",
       " 'Ana': 'Gold',\n",
       " 'Cahya': 'Platinum',\n",
       " 'Shandy': 'Platinum',\n",
       " 'Bambang': 'Silver'}"
      ]
     },
     "execution_count": 42,
     "metadata": {},
     "output_type": "execute_result"
    }
   ],
   "source": [
    "user_3.data"
   ]
  },
  {
   "cell_type": "code",
   "execution_count": 43,
   "id": "6ac43605-a97d-43e1-99b7-9bf6de1f365b",
   "metadata": {},
   "outputs": [
    {
     "data": {
      "text/plain": [
       "1577800.0"
      ]
     },
     "execution_count": 43,
     "metadata": {},
     "output_type": "execute_result"
    }
   ],
   "source": [
    "# isi titik - titik di bawah ini\n",
    "list_harga2 = [300_000, 150_000, 1_250_000, 15_000]\n",
    "user_3.calculate_price(user_3.username, list_harga2)"
   ]
  },
  {
   "cell_type": "code",
   "execution_count": 44,
   "id": "afa22da1-ee99-4cd0-9ff7-99193101d618",
   "metadata": {},
   "outputs": [
    {
     "name": "stdin",
     "output_type": "stream",
     "text": [
      "Enter number of elements :  5\n",
      " 100000\n",
      " 200000\n",
      " 300000\n",
      " 500000\n",
      " 20000\n"
     ]
    },
    {
     "name": "stdout",
     "output_type": "stream",
     "text": [
      "[100000, 200000, 300000, 500000, 20000]\n"
     ]
    }
   ],
   "source": [
    "\n",
    "# creating an empty list\n",
    "lst = []\n",
    "  \n",
    "# number of elements as input\n",
    "n = int(input(\"Enter number of elements : \"))\n",
    "  \n",
    "# iterating till the range\n",
    "for i in range(0, n):\n",
    "    ele = int(input())\n",
    "  \n",
    "    lst.append(ele) # adding the element\n",
    "      \n",
    "print(lst)"
   ]
  },
  {
   "cell_type": "code",
   "execution_count": 45,
   "id": "7b663a55-e689-45af-8e82-904ad251fa3a",
   "metadata": {},
   "outputs": [
    {
     "data": {
      "text/plain": [
       "1030400.0"
      ]
     },
     "execution_count": 45,
     "metadata": {},
     "output_type": "execute_result"
    }
   ],
   "source": [
    "# isi titik - titik di bawah ini\n",
    "\n",
    "user_3.calculate_price(user_3.username, lst)"
   ]
  },
  {
   "cell_type": "code",
   "execution_count": null,
   "id": "cd98252b-7874-4f25-bb54-13723b779bcc",
   "metadata": {},
   "outputs": [],
   "source": []
  }
 ],
 "metadata": {
  "kernelspec": {
   "display_name": "Python 3 (ipykernel)",
   "language": "python",
   "name": "python3"
  },
  "language_info": {
   "codemirror_mode": {
    "name": "ipython",
    "version": 3
   },
   "file_extension": ".py",
   "mimetype": "text/x-python",
   "name": "python",
   "nbconvert_exporter": "python",
   "pygments_lexer": "ipython3",
   "version": "3.9.15"
  }
 },
 "nbformat": 4,
 "nbformat_minor": 5
}
